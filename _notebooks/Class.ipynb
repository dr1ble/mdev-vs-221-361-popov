{
 "cells": [
  {
   "cell_type": "markdown",
   "metadata": {},
   "source": [
    "# Класс (Class)"
   ]
  },
  {
   "cell_type": "code",
   "execution_count": 5,
   "metadata": {
    "dotnet_interactive": {
     "language": "csharp"
    },
    "polyglot_notebook": {
     "kernelName": "csharp"
    },
    "vscode": {
     "languageId": "polyglot-notebook"
    }
   },
   "outputs": [
    {
     "name": "stdout",
     "output_type": "stream",
     "text": [
      " (18)\n",
      "18\n",
      "Юра (20)\n",
      "Привет!\n",
      "Миша (19)\n"
     ]
    }
   ],
   "source": [
    "class Person\n",
    "{\n",
    "    // Поля\n",
    "    public string name;\n",
    "    public int age = 18;\n",
    "    // Методы\n",
    "    public string Say() => \"Привет!\";\n",
    "}\n",
    "\n",
    "var p = new Person();\n",
    "Console.WriteLine($\"{p.name} ({p.age})\");\n",
    "Console.WriteLine(p.age);\n",
    "// Через поля\n",
    "p.name = \"Юра\";\n",
    "p.age = 20;\n",
    "Console.WriteLine($\"{p.name} ({p.age})\");\n",
    "Console.WriteLine(p.Say());\n",
    "\n",
    "// Через инициализатор объекта\n",
    "var p2 = new Person() {name = \"Миша\", age = 19};\n",
    "Console.WriteLine($\"{p2.name} ({p2.age})\");"
   ]
  },
  {
   "cell_type": "code",
   "execution_count": 6,
   "metadata": {
    "vscode": {
     "languageId": "polyglot-notebook"
    }
   },
   "outputs": [
    {
     "name": "stdout",
     "output_type": "stream",
     "text": [
      "Юра (20)\r\n"
     ]
    }
   ],
   "source": [
    "// Методы Геттры и Сеттеры\n",
    "class Person\n",
    "{\n",
    "    // Поля\n",
    "    private string name;\n",
    "    private int age = 18;\n",
    "    // Методы Геттеры и Сеттеры\n",
    "    public string GetName() => name;\n",
    "    public void SetName(string value) => name = value;\n",
    "    public int GetAge() => age;\n",
    "    public void SetAge(int value) => age = value;\n",
    "}\n",
    "\n",
    "var p = new Person();\n",
    "// через поля\n",
    "p.SetName(\"Юра\");\n",
    "p.SetAge(20);\n",
    "Console.WriteLine($\"{p.GetName()} ({p.GetAge()})\")"
   ]
  },
  {
   "cell_type": "code",
   "execution_count": 10,
   "metadata": {
    "vscode": {
     "languageId": "polyglot-notebook"
    }
   },
   "outputs": [
    {
     "name": "stdout",
     "output_type": "stream",
     "text": [
      "Юра (20)\n",
      "Юра_20\n"
     ]
    }
   ],
   "source": [
    "// Свойства\n",
    "\n",
    "class Person\n",
    "{\n",
    "    // Поля\n",
    "    private string name;\n",
    "    private int age = 18;\n",
    "    // Свойства\n",
    "    public string Name\n",
    "    {\n",
    "        get \n",
    "        {\n",
    "            return name;\n",
    "        }\n",
    "        set \n",
    "        {\n",
    "            name = value;\n",
    "        }\n",
    "    }\n",
    "    public int Age {get => age; set => age = value;}\n",
    "    // Вычисляемое свойство\n",
    "    public string NickName {get => $\"{Name}_{Age}\";}\n",
    "}\n",
    "\n",
    "var p = new Person();\n",
    "// через свойства\n",
    "p.Name = \"Юра\";\n",
    "p.Age = 20;\n",
    "Console.WriteLine($\"{p.Name} ({p.Age})\");\n",
    "Console.WriteLine(p.NickName)"
   ]
  },
  {
   "cell_type": "code",
   "execution_count": 11,
   "metadata": {
    "vscode": {
     "languageId": "polyglot-notebook"
    }
   },
   "outputs": [
    {
     "name": "stdout",
     "output_type": "stream",
     "text": [
      "Юра (20)\r\n"
     ]
    }
   ],
   "source": [
    "// Автоматические свойства\n",
    "class Person\n",
    "{\n",
    "    public string Name {get; set; }\n",
    "    public int Age {get; set; }\n",
    "}\n",
    "\n",
    "var p = new Person();\n",
    "// через поля\n",
    "p.Name = \"Юра\";\n",
    "p.Age = 20;\n",
    "Console.WriteLine($\"{p.Name} ({p.Age})\");"
   ]
  },
  {
   "cell_type": "code",
   "execution_count": 14,
   "metadata": {
    "vscode": {
     "languageId": "polyglot-notebook"
    }
   },
   "outputs": [
    {
     "name": "stdout",
     "output_type": "stream",
     "text": [
      "Юра (18)\r\n"
     ]
    }
   ],
   "source": [
    "// Обычный конструктор\n",
    "class Person\n",
    "{\n",
    "    public string Name {get; set; }\n",
    "    public int Age {get; set; }\n",
    "    // конструктор\n",
    "    public Person() : this(\"Без имени\") {}\n",
    "    public Person(string name) : this(name, 18) {}\n",
    "    // {\n",
    "    //     Name = name;\n",
    "    //     Age = 18; // по умолчанию\n",
    "    // }\n",
    "    public Person(string name, int age)\n",
    "    {\n",
    "        Name = name;\n",
    "        Age = age;\n",
    "    }\n",
    "}\n",
    "\n",
    "var p = new Person(\"Юра\");\n",
    "Console.WriteLine($\"{p.Name} ({p.Age})\");"
   ]
  },
  {
   "cell_type": "code",
   "execution_count": 15,
   "metadata": {
    "vscode": {
     "languageId": "polyglot-notebook"
    }
   },
   "outputs": [
    {
     "name": "stdout",
     "output_type": "stream",
     "text": [
      "Юра (21)\r\n"
     ]
    }
   ],
   "source": [
    "// Первичный конструктор (начиная с C# 12.0)\n",
    "class Person(string name, int age)\n",
    "{\n",
    "    public string Name {get; set; } = name;\n",
    "    public int Age {get; set; } = age;\n",
    "}\n",
    "\n",
    "var p = new Person(\"Юра\", 21);\n",
    "Console.WriteLine($\"{p.Name} ({p.Age})\");\n",
    "Console.WriteLine(p);"
   ]
  },
  {
   "cell_type": "code",
   "execution_count": 16,
   "metadata": {
    "vscode": {
     "languageId": "polyglot-notebook"
    }
   },
   "outputs": [
    {
     "name": "stdout",
     "output_type": "stream",
     "text": [
      "Юра (21)\n",
      "Person: Юра (21)\n"
     ]
    }
   ],
   "source": [
    "// Первичный конструктор + метод ToString\n",
    "class Person(string name, int age)\n",
    "{\n",
    "    public string Name {get; set; } = name;\n",
    "    public int Age {get; set; } = age;\n",
    "    public override string ToString() => $\"Person: {Name} ({Age})\";\n",
    "}\n",
    "\n",
    "var p = new Person(\"Юра\", 21);\n",
    "Console.WriteLine($\"{p.Name} ({p.Age})\");\n",
    "Console.WriteLine(p);"
   ]
  },
  {
   "cell_type": "code",
   "execution_count": null,
   "metadata": {
    "vscode": {
     "languageId": "polyglot-notebook"
    }
   },
   "outputs": [],
   "source": [
    "// TODO"
   ]
  }
 ],
 "metadata": {
  "kernelspec": {
   "display_name": ".NET (C#)",
   "language": "C#",
   "name": ".net-csharp"
  },
  "language_info": {
   "name": "csharp"
  },
  "polyglot_notebook": {
   "kernelInfo": {
    "defaultKernelName": "csharp",
    "items": [
     {
      "aliases": [],
      "name": "csharp"
     }
    ]
   }
  }
 },
 "nbformat": 4,
 "nbformat_minor": 2
}
