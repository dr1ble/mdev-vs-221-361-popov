{
 "cells": [
  {
   "cell_type": "markdown",
   "metadata": {},
   "source": [
    "# Делегат (delegate)"
   ]
  },
  {
   "cell_type": "markdown",
   "metadata": {},
   "source": [
    "## Пользовательские делегаты"
   ]
  },
  {
   "cell_type": "code",
   "execution_count": 8,
   "metadata": {
    "dotnet_interactive": {
     "language": "csharp"
    },
    "polyglot_notebook": {
     "kernelName": "csharp"
    },
    "vscode": {
     "languageId": "polyglot-notebook"
    }
   },
   "outputs": [
    {
     "name": "stdout",
     "output_type": "stream",
     "text": [
      "How are you?\r\n"
     ]
    }
   ],
   "source": [
    "delegate void Work();\n",
    "\n",
    "void Hello() => Console.WriteLine(\"Hello\");\n",
    "void HowAreYou() => Console.WriteLine(\"How are you?\");\n",
    "\n",
    "// Однотипные делегаты\n",
    "Work work;\n",
    "work = Hello;\n",
    "work = HowAreYou;\n",
    "\n",
    "work.Invoke();\n",
    "// work(); // сокращенная форма вызова"
   ]
  },
  {
   "cell_type": "code",
   "execution_count": 9,
   "metadata": {
    "dotnet_interactive": {
     "language": "csharp"
    },
    "polyglot_notebook": {
     "kernelName": "csharp"
    },
    "vscode": {
     "languageId": "polyglot-notebook"
    }
   },
   "outputs": [
    {
     "name": "stdout",
     "output_type": "stream",
     "text": [
      "How are you?\n",
      "Hello\n",
      "Hello\n",
      "What?\n",
      "Вау\n"
     ]
    }
   ],
   "source": [
    "// Многотипные делегаты\n",
    "Work work;\n",
    "work += Hello;\n",
    "work += HowAreYou;\n",
    "work += HowAreYou;\n",
    "work -= HowAreYou;\n",
    "work -= Hello;\n",
    "work += Hello;\n",
    "work += Hello;\n",
    "// Анонимный метод\n",
    "work += delegate() { Console.WriteLine(\"What?\"); };\n",
    "//Лямбда-выражение\n",
    "work += () => Console.WriteLine(\"Вау\");\n",
    "\n",
    "work.Invoke();"
   ]
  },
  {
   "cell_type": "code",
   "execution_count": 10,
   "metadata": {
    "dotnet_interactive": {
     "language": "csharp"
    },
    "polyglot_notebook": {
     "kernelName": "csharp"
    },
    "vscode": {
     "languageId": "polyglot-notebook"
    }
   },
   "outputs": [
    {
     "name": "stdout",
     "output_type": "stream",
     "text": [
      "True\r\n"
     ]
    }
   ],
   "source": [
    "Work work;\n",
    "Console.WriteLine(work == null);\n",
    "// work.Invoke();\n",
    "\n",
    "// if (work != null)\n",
    "//    work.Invoke();\n",
    "\n",
    "// Оператор null условия\n",
    "work?.Invoke();"
   ]
  },
  {
   "cell_type": "code",
   "execution_count": 11,
   "metadata": {
    "dotnet_interactive": {
     "language": "csharp"
    },
    "polyglot_notebook": {
     "kernelName": "csharp"
    },
    "vscode": {
     "languageId": "polyglot-notebook"
    }
   },
   "outputs": [
    {
     "data": {
      "text/html": [
       "<div class=\"dni-plaintext\"><pre>-1</pre></div><style>\r\n",
       ".dni-code-hint {\r\n",
       "    font-style: italic;\r\n",
       "    overflow: hidden;\r\n",
       "    white-space: nowrap;\r\n",
       "}\r\n",
       ".dni-treeview {\r\n",
       "    white-space: nowrap;\r\n",
       "}\r\n",
       ".dni-treeview td {\r\n",
       "    vertical-align: top;\r\n",
       "    text-align: start;\r\n",
       "}\r\n",
       "details.dni-treeview {\r\n",
       "    padding-left: 1em;\r\n",
       "}\r\n",
       "table td {\r\n",
       "    text-align: start;\r\n",
       "}\r\n",
       "table tr { \r\n",
       "    vertical-align: top; \r\n",
       "    margin: 0em 0px;\r\n",
       "}\r\n",
       "table tr td pre \r\n",
       "{ \r\n",
       "    vertical-align: top !important; \r\n",
       "    margin: 0em 0px !important;\r\n",
       "} \r\n",
       "table th {\r\n",
       "    text-align: start;\r\n",
       "}\r\n",
       "</style>"
      ]
     },
     "metadata": {},
     "output_type": "display_data"
    }
   ],
   "source": [
    "delegate int Calc(int x, int y);\n",
    "\n",
    "int Add(int x, int y) => x + y;\n",
    "int Sub(int x, int y) => x - y;\n",
    "int Mul(int x, int y) => x * y;\n",
    "\n",
    "Calc calc;\n",
    "calc = Add;\n",
    "calc = Sub;\n",
    "calc(2, 3)"
   ]
  },
  {
   "cell_type": "code",
   "execution_count": 12,
   "metadata": {
    "dotnet_interactive": {
     "language": "csharp"
    },
    "polyglot_notebook": {
     "kernelName": "csharp"
    },
    "vscode": {
     "languageId": "polyglot-notebook"
    }
   },
   "outputs": [
    {
     "data": {
      "text/html": [
       "<div class=\"dni-plaintext\"><pre>5</pre></div><style>\r\n",
       ".dni-code-hint {\r\n",
       "    font-style: italic;\r\n",
       "    overflow: hidden;\r\n",
       "    white-space: nowrap;\r\n",
       "}\r\n",
       ".dni-treeview {\r\n",
       "    white-space: nowrap;\r\n",
       "}\r\n",
       ".dni-treeview td {\r\n",
       "    vertical-align: top;\r\n",
       "    text-align: start;\r\n",
       "}\r\n",
       "details.dni-treeview {\r\n",
       "    padding-left: 1em;\r\n",
       "}\r\n",
       "table td {\r\n",
       "    text-align: start;\r\n",
       "}\r\n",
       "table tr { \r\n",
       "    vertical-align: top; \r\n",
       "    margin: 0em 0px;\r\n",
       "}\r\n",
       "table tr td pre \r\n",
       "{ \r\n",
       "    vertical-align: top !important; \r\n",
       "    margin: 0em 0px !important;\r\n",
       "} \r\n",
       "table th {\r\n",
       "    text-align: start;\r\n",
       "}\r\n",
       "</style>"
      ]
     },
     "metadata": {},
     "output_type": "display_data"
    }
   ],
   "source": [
    "delegate int Calc(int x, int y);\n",
    "\n",
    "int Add(int x, int y) => x + y;\n",
    "int Sub(int x, int y) => x - y;\n",
    "int Mul(int x, int y) => x * y;\n",
    "\n",
    "Dictionary<string, Calc> calc = new()\n",
    "{\n",
    "    [\"+\"] = Add,\n",
    "    [\"-\"] = Sub,\n",
    "    [\"*\"] = Mul\n",
    "};\n",
    "\n",
    "calc[\"+\"](2, 3)"
   ]
  },
  {
   "cell_type": "code",
   "execution_count": 13,
   "metadata": {
    "dotnet_interactive": {
     "language": "csharp"
    },
    "polyglot_notebook": {
     "kernelName": "csharp"
    },
    "vscode": {
     "languageId": "polyglot-notebook"
    }
   },
   "outputs": [
    {
     "data": {
      "text/html": [
       "<div class=\"dni-plaintext\"><pre>5</pre></div><style>\r\n",
       ".dni-code-hint {\r\n",
       "    font-style: italic;\r\n",
       "    overflow: hidden;\r\n",
       "    white-space: nowrap;\r\n",
       "}\r\n",
       ".dni-treeview {\r\n",
       "    white-space: nowrap;\r\n",
       "}\r\n",
       ".dni-treeview td {\r\n",
       "    vertical-align: top;\r\n",
       "    text-align: start;\r\n",
       "}\r\n",
       "details.dni-treeview {\r\n",
       "    padding-left: 1em;\r\n",
       "}\r\n",
       "table td {\r\n",
       "    text-align: start;\r\n",
       "}\r\n",
       "table tr { \r\n",
       "    vertical-align: top; \r\n",
       "    margin: 0em 0px;\r\n",
       "}\r\n",
       "table tr td pre \r\n",
       "{ \r\n",
       "    vertical-align: top !important; \r\n",
       "    margin: 0em 0px !important;\r\n",
       "} \r\n",
       "table th {\r\n",
       "    text-align: start;\r\n",
       "}\r\n",
       "</style>"
      ]
     },
     "metadata": {},
     "output_type": "display_data"
    }
   ],
   "source": [
    "delegate int Calc(int x, int y);\n",
    "enum CalcOperator { Add, Sub, Mul };\n",
    "\n",
    "Dictionary<CalcOperator, Calc> calc = new()\n",
    "{\n",
    "    [CalcOperator.Add] = Add,\n",
    "    [CalcOperator.Sub] = (x, y) => x - y,\n",
    "    [CalcOperator.Mul] = Mul\n",
    "};\n",
    "\n",
    "calc[CalcOperator.Add](2, 3)"
   ]
  },
  {
   "cell_type": "markdown",
   "metadata": {},
   "source": [
    "# Встроенные (стандартные) делегаты\n",
    "\n",
    "- Action\n",
    "- Func\n",
    "- Predicate"
   ]
  },
  {
   "cell_type": "code",
   "execution_count": 18,
   "metadata": {
    "dotnet_interactive": {
     "language": "csharp"
    },
    "polyglot_notebook": {
     "kernelName": "csharp"
    },
    "vscode": {
     "languageId": "polyglot-notebook"
    }
   },
   "outputs": [
    {
     "name": "stdout",
     "output_type": "stream",
     "text": [
      "Ваня\n",
      "5\n",
      "2 + 3 = 5\n"
     ]
    }
   ],
   "source": [
    "// Action - ничего не возвращают, но на вход могут получить от 0 до 16 параметров\n",
    "Action printName = () => Console.WriteLine(\"Ваня\");\n",
    "printName();\n",
    "\n",
    "Action<int, int> printCalc = (x, y) => Console.WriteLine(x + y);\n",
    "// сделаем многотипный делегат, присвоем ссылку еще на один делегат\n",
    "printCalc += (x, y) => Console.WriteLine($\"{x} + {y} = {x + y}\");\n",
    "printCalc(2, 3);\n"
   ]
  },
  {
   "cell_type": "code",
   "execution_count": null,
   "metadata": {
    "dotnet_interactive": {
     "language": "csharp"
    },
    "polyglot_notebook": {
     "kernelName": "csharp"
    },
    "vscode": {
     "languageId": "polyglot-notebook"
    }
   },
   "outputs": [],
   "source": [
    "// Неявное объявления делегата, создаем переменной для хранения ссылки на метод\n",
    "var printName = () => Console.WriteLine(\"Ваня\");\n",
    "printName();\n",
    "\n",
    "var printCalc = (int x, int y) => Console.WriteLine(x + y);\n",
    "// сделаем многотипный делегат\n",
    "printCalc += (x, y) => Console.WriteLine($\"{x} + {y} = {x + y}\");\n",
    "printCalc(2, 3);"
   ]
  },
  {
   "cell_type": "code",
   "execution_count": 20,
   "metadata": {
    "dotnet_interactive": {
     "language": "csharp"
    },
    "polyglot_notebook": {
     "kernelName": "csharp"
    },
    "vscode": {
     "languageId": "polyglot-notebook"
    }
   },
   "outputs": [
    {
     "name": "stdout",
     "output_type": "stream",
     "text": [
      "Ваня\n",
      "5\n"
     ]
    }
   ],
   "source": [
    "// Функиця делегирования что-то возвращает и принимает от 0 до 16 параметров\n",
    "Func<string> getName = () => \"Ваня\";\n",
    "Console.WriteLine(getName());\n",
    "\n",
    "Func<int, int, string> getCalc = (x, y) => $\"{x + y}\";\n",
    "Console.WriteLine(getCalc(2, 3));"
   ]
  },
  {
   "cell_type": "code",
   "execution_count": null,
   "metadata": {
    "dotnet_interactive": {
     "language": "csharp"
    },
    "polyglot_notebook": {
     "kernelName": "csharp"
    },
    "vscode": {
     "languageId": "polyglot-notebook"
    }
   },
   "outputs": [],
   "source": [
    "// Функиця делегирования что-то возвращает и принимает от 0 до 16 параметров\n",
    "var getName = () => \"Ваня\";\n",
    "Console.WriteLine(getName());\n",
    "\n",
    "var getCalc = (int x, int y) => $\"{x + y}\";\n",
    "Console.WriteLine(getCalc(2, 3));"
   ]
  },
  {
   "cell_type": "code",
   "execution_count": 26,
   "metadata": {
    "dotnet_interactive": {
     "language": "csharp"
    },
    "polyglot_notebook": {
     "kernelName": "csharp"
    },
    "vscode": {
     "languageId": "polyglot-notebook"
    }
   },
   "outputs": [
    {
     "name": "stdout",
     "output_type": "stream",
     "text": [
      "True\n",
      "False\n",
      "False\n"
     ]
    }
   ],
   "source": [
    "// Предикат - на вход принимает только один параметр и возвращает всегда bool тип данных, \n",
    "// эффективен для каких-то проверок или условий (валидация email-ов и т.д.)\n",
    "// Если один параметр то скобки можно не писать\n",
    "// ?. проверка если не нулл\n",
    "Predicate<string> isCheckName = name => name?.Length > 1 && name.Contains(\"В\");\n",
    "Console.WriteLine(isCheckName(\"Ваня\"));\n",
    "Console.WriteLine(isCheckName(\"В\"));\n",
    "Console.WriteLine(isCheckName(null));"
   ]
  },
  {
   "cell_type": "code",
   "execution_count": null,
   "metadata": {
    "dotnet_interactive": {
     "language": "csharp"
    },
    "polyglot_notebook": {
     "kernelName": "csharp"
    },
    "vscode": {
     "languageId": "polyglot-notebook"
    }
   },
   "outputs": [],
   "source": [
    "// С помощью неявного типизирования \n",
    "var isCheckName = (string name) => name?.Length > 1 && name.Contains(\"В\");\n",
    "Console.WriteLine(isCheckName(\"Ваня\"));\n",
    "Console.WriteLine(isCheckName(\"В\"));\n",
    "Console.WriteLine(isCheckName(null));"
   ]
  },
  {
   "cell_type": "code",
   "execution_count": 27,
   "metadata": {
    "dotnet_interactive": {
     "language": "csharp"
    },
    "polyglot_notebook": {
     "kernelName": "csharp"
    },
    "vscode": {
     "languageId": "polyglot-notebook"
    }
   },
   "outputs": [
    {
     "name": "stdout",
     "output_type": "stream",
     "text": [
      "True\n",
      "False\n",
      "False\n"
     ]
    }
   ],
   "source": [
    "// Пример\n",
    "Predicate<int> isPositive = i => i > 0;\n",
    "Console.WriteLine(isPositive(10));\n",
    "Console.WriteLine(isPositive(0));\n",
    "Console.WriteLine(isPositive(-1));"
   ]
  },
  {
   "cell_type": "code",
   "execution_count": 32,
   "metadata": {
    "dotnet_interactive": {
     "language": "csharp"
    },
    "polyglot_notebook": {
     "kernelName": "csharp"
    },
    "vscode": {
     "languageId": "polyglot-notebook"
    }
   },
   "outputs": [
    {
     "name": "stdout",
     "output_type": "stream",
     "text": [
      "1, 2, 3, 4, 5, 6, 7, 8, 9, 10\n",
      "2, 4, 6, 8, 10\n"
     ]
    }
   ],
   "source": [
    "// List<int> numbers = [1, 2, 3, 4, 5, 6, 7, 8, 9, 10];\n",
    "List<int> numbers = Enumerable.Range(1, 10).ToList();\n",
    "Console.WriteLine(string.Join(\", \", numbers));\n",
    "\n",
    "Predicate<int> isEven = i => i % 2 == 0;\n",
    "// FindAll принимает только предикат \n",
    "List<int> numbersEven = numbers.FindAll(isEven);\n",
    "Console.WriteLine(string.Join(\", \", numbersEven));\n",
    "\n",
    "List<int> numbersEven2 = numbers.FindAll(i => i % 2 == 0);\n",
    "Console.WriteLine(string.Join(\", \", numbersEven2));"
   ]
  },
  {
   "cell_type": "code",
   "execution_count": 36,
   "metadata": {
    "dotnet_interactive": {
     "language": "csharp"
    },
    "polyglot_notebook": {
     "kernelName": "csharp"
    },
    "vscode": {
     "languageId": "polyglot-notebook"
    }
   },
   "outputs": [
    {
     "name": "stdout",
     "output_type": "stream",
     "text": [
      "2 + 3 = 5\n",
      "2 - 3 = -1\n",
      "2 * 3 = 6\n"
     ]
    }
   ],
   "source": [
    "// Пример калькулятор с Action\n",
    "\n",
    "void Add (int x, int y ) => Console.WriteLine($\"{x} + {y} = {x + y}\");\n",
    "void Sub (int x, int y ) => Console.WriteLine($\"{x} - {y} = {x - y}\");\n",
    "\n",
    "void Calc(int a, int b, Action<int, int> fn) => fn(a, b);\n",
    "\n",
    "Calc(2, 3, Add);\n",
    "Calc(2, 3, Sub);\n",
    "Calc(2, 3, (x, y) => Console.WriteLine($\"{x} * {y} = {x * y}\"))"
   ]
  },
  {
   "cell_type": "code",
   "execution_count": 37,
   "metadata": {
    "dotnet_interactive": {
     "language": "csharp"
    },
    "polyglot_notebook": {
     "kernelName": "csharp"
    },
    "vscode": {
     "languageId": "polyglot-notebook"
    }
   },
   "outputs": [
    {
     "name": "stdout",
     "output_type": "stream",
     "text": [
      "2 + 3 = 5\n",
      "2 - 3 = -1\n",
      "2 * 3 = 6\n"
     ]
    }
   ],
   "source": [
    "// Пример калькулятор c функцией делегирования\n",
    "\n",
    "string Add (int x, int y ) => $\"{x} + {y} = {x + y}\";\n",
    "string Sub (int x, int y ) => $\"{x} - {y} = {x - y}\";\n",
    "\n",
    "string Calc(int a, int b, Func<int, int, string> fn) => fn(a, b);\n",
    "\n",
    "Console.WriteLine(Calc(2, 3, Add));\n",
    "Console.WriteLine(Calc(2, 3, Sub));\n",
    "Calc(2, 3, (x, y) => Console.WriteLine($\"{x} * {y} = {x * y}\"))"
   ]
  },
  {
   "cell_type": "markdown",
   "metadata": {},
   "source": [
    "## Событие (event)\n",
    "Специальный делегат"
   ]
  },
  {
   "cell_type": "code",
   "execution_count": 40,
   "metadata": {
    "dotnet_interactive": {
     "language": "csharp"
    },
    "polyglot_notebook": {
     "kernelName": "csharp"
    },
    "vscode": {
     "languageId": "polyglot-notebook"
    }
   },
   "outputs": [
    {
     "name": "stdout",
     "output_type": "stream",
     "text": [
      "Новое значение = Юра\n",
      "Новое значение = Миша\n",
      "Новое значение = _____\n"
     ]
    }
   ],
   "source": [
    "// Класс с делегатом \n",
    "\n",
    "class Person\n",
    "{\n",
    "    public delegate void MyHandler(string newValue);\n",
    "    public MyHandler OnNameChanged;\n",
    "\n",
    "    private string name;\n",
    "    // свойство\n",
    "    public string Name\n",
    "    {\n",
    "        get => name;\n",
    "        set => OnNameChanged?.Invoke(name = value);\n",
    "        // {\n",
    "        //     name = value;\n",
    "        //     OnNameChanged?.Invoke(Name);\n",
    "        // }\n",
    "    }\n",
    "}\n",
    "\n",
    "// Хотим что бы вызываемая программа уведомлялась об изменениях \n",
    "var p = new Person();\n",
    "p.OnNameChanged += s => Console.WriteLine($\"Новое значение = {s}\");\n",
    "p.OnNameChanged = s => Console.WriteLine($\">>> = {s}\"); // Плохо, т.к перезатирается ссылка\n",
    "p.Name = \"Юра\";\n",
    "p.Name = \"Миша\";\n",
    "p.OnNameChanged(\"_____\"); // Плохо"
   ]
  },
  {
   "cell_type": "code",
   "execution_count": null,
   "metadata": {
    "dotnet_interactive": {
     "language": "csharp"
    },
    "polyglot_notebook": {
     "kernelName": "csharp"
    },
    "vscode": {
     "languageId": "polyglot-notebook"
    }
   },
   "outputs": [],
   "source": [
    "// Класс с событием\n",
    "\n",
    "class Person\n",
    "{\n",
    "    public delegate void MyHandler(string newValue);\n",
    "    public event MyHandler OnNameChanged;\n",
    "\n",
    "    private string name;\n",
    "    // свойство\n",
    "    public string Name\n",
    "    {\n",
    "        get => name;\n",
    "        set => OnNameChanged?.Invoke(name = value);\n",
    "        // {\n",
    "        //     name = value;\n",
    "        //     OnNameChanged?.Invoke(Name);\n",
    "        // }\n",
    "    }\n",
    "}\n",
    "\n",
    "// Хотим что бы вызываемая программа уведомлялась об изменениях \n",
    "var p = new Person();\n",
    "p.OnNameChanged += s => Console.WriteLine($\"Новое значение = {s}\");\n",
    "// p.OnNameChanged = s => Console.WriteLine($\">>> = {s}\"); // Плохо, т.к перезатирается ссылка\n",
    "p.Name = \"Юра\";\n",
    "p.Name = \"Миша\";\n",
    "// p.OnNameChanged(\"_____\"); // Плохо"
   ]
  },
  {
   "cell_type": "code",
   "execution_count": 41,
   "metadata": {
    "dotnet_interactive": {
     "language": "csharp"
    },
    "polyglot_notebook": {
     "kernelName": "csharp"
    },
    "vscode": {
     "languageId": "polyglot-notebook"
    }
   },
   "outputs": [
    {
     "name": "stdout",
     "output_type": "stream",
     "text": [
      "Новое значение = Юра\n",
      "Новое значение = Миша\n"
     ]
    }
   ],
   "source": [
    "// Класс с событием и стандартным делегатом\n",
    "\n",
    "class Person\n",
    "{\n",
    "    private string name;\n",
    "    // свойство\n",
    "    public string Name\n",
    "    {\n",
    "        get => name;\n",
    "        set => OnNameChanged?.Invoke(name = value);\n",
    "    }\n",
    "    \n",
    "    public event Action<string> OnNameChanged;\n",
    "}\n",
    "\n",
    "// Хотим что бы вызываемая программа уведомлялась об изменениях \n",
    "var p = new Person();\n",
    "p.OnNameChanged += s => Console.WriteLine($\"Новое значение = {s}\");\n",
    "p.Name = \"Юра\";\n",
    "p.Name = \"Миша\";"
   ]
  }
 ],
 "metadata": {
  "kernelspec": {
   "display_name": ".NET (C#)",
   "language": "C#",
   "name": ".net-csharp"
  },
  "language_info": {
   "name": "python"
  },
  "polyglot_notebook": {
   "kernelInfo": {
    "defaultKernelName": "csharp",
    "items": [
     {
      "aliases": [],
      "name": "csharp"
     }
    ]
   }
  }
 },
 "nbformat": 4,
 "nbformat_minor": 2
}
