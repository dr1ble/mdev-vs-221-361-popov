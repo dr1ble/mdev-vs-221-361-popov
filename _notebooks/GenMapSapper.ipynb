{
 "cells": [
  {
   "cell_type": "code",
   "execution_count": 13,
   "metadata": {
    "polyglot_notebook": {
     "kernelName": "csharp"
    },
    "vscode": {
     "languageId": "polyglot-notebook"
    }
   },
   "outputs": [],
   "source": [
    "using System;\n",
    "using System.Collections.Generic;\n",
    "\n",
    "public class MinesweeperMapGenerator\n",
    "{\n",
    "    private int height;\n",
    "    private int width;\n",
    "    private int mineCount;\n",
    "    private int[,] map;\n",
    "    private Random random = new Random();\n",
    "\n",
    "    public MinesweeperMapGenerator(int height = 9, int width = 9, int mineCount = 10)\n",
    "    {\n",
    "        this.height = height;\n",
    "        this.width = width;\n",
    "        this.mineCount = mineCount;\n",
    "        map = new int[height, width];\n",
    "    }\n",
    "\n",
    "    public int[,] Generate((int, int)? firstMove = null, (int, int)[] mines = null)\n",
    "    {\n",
    "        // Инициализация карты\n",
    "        for (int i = 0; i < height; i++)\n",
    "            for (int j = 0; j < width; j++)\n",
    "                map[i, j] = 0;\n",
    "\n",
    "        HashSet<(int, int)> minePositions = new HashSet<(int, int)>();\n",
    "\n",
    "        if (mines != null)\n",
    "        {\n",
    "            foreach (var (x, y) in mines)\n",
    "            {\n",
    "                if (IsValidCell(x, y))\n",
    "                {\n",
    "                    minePositions.Add((x, y));\n",
    "                }\n",
    "            }\n",
    "        }\n",
    "        else\n",
    "        {\n",
    "            // Определение запрещенных позиций для мин (если указан первый ход)\n",
    "            HashSet<(int, int)> forbidden = new HashSet<(int, int)>();\n",
    "            if (firstMove.HasValue)\n",
    "            {\n",
    "                int fx = firstMove.Value.Item1;\n",
    "                int fy = firstMove.Value.Item2;\n",
    "                for (int dx = -1; dx <= 1; dx++)\n",
    "                    for (int dy = -1; dy <= 1; dy++)\n",
    "                    {\n",
    "                        int nx = fx + dx;\n",
    "                        int ny = fy + dy;\n",
    "                        if (IsValidCell(nx, ny))\n",
    "                            forbidden.Add((nx, ny));\n",
    "                    }\n",
    "            }\n",
    "\n",
    "            // Генерация случайных позиций мин\n",
    "            while (minePositions.Count < mineCount)\n",
    "            {\n",
    "                int x = random.Next(0, height);\n",
    "                int y = random.Next(0, width);\n",
    "                if (minePositions.Contains((x, y)) || forbidden.Contains((x, y)))\n",
    "                    continue;\n",
    "                minePositions.Add((x, y));\n",
    "            }\n",
    "        }\n",
    "\n",
    "        // Установка мин\n",
    "        foreach (var (x, y) in minePositions)\n",
    "        {\n",
    "            map[x, y] = -1;\n",
    "            // Обновление соседних ячеек\n",
    "            for (int dx = -1; dx <= 1; dx++)\n",
    "                for (int dy = -1; dy <= 1; dy++)\n",
    "                {\n",
    "                    int nx = x + dx;\n",
    "                    int ny = y + dy;\n",
    "                    if (IsValidCell(nx, ny) && map[nx, ny] != -1)\n",
    "                        map[nx, ny]++;\n",
    "                }\n",
    "        }\n",
    "\n",
    "        return map;\n",
    "    }\n",
    "\n",
    "    private bool IsValidCell(int x, int y)\n",
    "    {\n",
    "        return x >= 0 && x < height && y >= 0 && y < width;\n",
    "    }\n",
    "\n",
    "    public void PrintMap()\n",
    "    {\n",
    "        for (int i = 0; i < height; i++)\n",
    "        {\n",
    "            for (int j = 0; j < width; j++)\n",
    "            {\n",
    "                if (map[i, j] == -1)\n",
    "                    Console.Write('*');\n",
    "                else\n",
    "                    Console.Write(map[i, j]);\n",
    "            }\n",
    "            Console.WriteLine();\n",
    "        }\n",
    "    }\n",
    "}\n"
   ]
  },
  {
   "cell_type": "code",
   "execution_count": 16,
   "metadata": {
    "polyglot_notebook": {
     "kernelName": "csharp"
    },
    "vscode": {
     "languageId": "polyglot-notebook"
    }
   },
   "outputs": [
    {
     "name": "stdout",
     "output_type": "stream",
     "text": [
      "00000112*\n",
      "000001*21\n",
      "121101110\n",
      "*4*111211\n",
      "**211*2*1\n",
      "221011211\n",
      "000112110\n",
      "0001*2*10\n",
      "000112110\n",
      "\n",
      "*101*\n",
      "11022\n",
      "0002*\n",
      "0013*\n",
      "001*2\n",
      "\n",
      "*1011\n",
      "1112*\n",
      "001*2\n",
      "00122\n",
      "0001*\n"
     ]
    }
   ],
   "source": [
    "       // Пример 1: стандартное поле 9x9 с 10 минами\n",
    "        var generator1 = new MinesweeperMapGenerator();\n",
    "        var map1 = generator1.Generate();\n",
    "        generator1.PrintMap();\n",
    "        Console.WriteLine();\n",
    "\n",
    "        // Пример 2: поле 5x5 с 5 минами и первым ходом в (0,0)\n",
    "        var generator2 = new MinesweeperMapGenerator(5, 5, 5);\n",
    "        var map2 = generator2.Generate(firstMove: (2, 2));\n",
    "        generator2.PrintMap();\n",
    "        Console.WriteLine();\n",
    "\n",
    "        // Пример 3: фиксированные координаты мин\n",
    "        var generator3 = new MinesweeperMapGenerator(5, 5);\n",
    "        var map3 = generator3.Generate(mines: new (int, int)[] { (4, 4), (2, 3), (1, 4), (0, 0) });\n",
    "        generator3.PrintMap();"
   ]
  }
 ],
 "metadata": {
  "kernelspec": {
   "display_name": ".NET (C#)",
   "language": "C#",
   "name": ".net-csharp"
  },
  "language_info": {
   "name": "python"
  },
  "polyglot_notebook": {
   "kernelInfo": {
    "defaultKernelName": "csharp",
    "items": [
     {
      "aliases": [],
      "name": "csharp"
     }
    ]
   }
  }
 },
 "nbformat": 4,
 "nbformat_minor": 2
}
