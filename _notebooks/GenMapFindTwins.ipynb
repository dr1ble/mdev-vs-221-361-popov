{
 "cells": [
  {
   "cell_type": "code",
   "execution_count": 9,
   "metadata": {
    "polyglot_notebook": {
     "kernelName": "csharp"
    },
    "vscode": {
     "languageId": "polyglot-notebook"
    }
   },
   "outputs": [],
   "source": [
    "using System;\n",
    "using System.Collections.Generic;\n",
    "using System.Linq;\n",
    "\n",
    "public class FindPairsMapGenerator\n",
    "{\n",
    "    private int height;\n",
    "    private int width;\n",
    "    private int matchCount;\n",
    "    private string symbols;\n",
    "    private Random random = new Random();\n",
    "\n",
    "    public FindPairsMapGenerator(int height = 9, int width = 9, string symbols = \"ABCDEFGHIJ\", int matchCount = 9)\n",
    "    {\n",
    "        this.height = height;\n",
    "        this.width = width;\n",
    "        this.symbols = symbols;\n",
    "        this.matchCount = matchCount;\n",
    "\n",
    "        int totalCells = height * width;\n",
    "        if (totalCells % matchCount != 0)\n",
    "        {\n",
    "            throw new ArgumentException(\"Общее количество ячеек должно быть кратно количеству совпадений.\");\n",
    "        }\n",
    "\n",
    "        int requiredSymbols = totalCells / matchCount;\n",
    "        if (symbols.Length < requiredSymbols)\n",
    "        {\n",
    "            throw new ArgumentException(\"Недостаточно символов для генерации карты с указанными параметрами.\");\n",
    "        }\n",
    "    }\n",
    "\n",
    "    public string[,] Generate()\n",
    "    {\n",
    "        int totalCells = height * width;\n",
    "        int requiredSymbols = totalCells / matchCount;\n",
    "\n",
    "        // Создаем список символов с повторениями в соответствии с matchCount\n",
    "        List<string> symbolList = new List<string>();\n",
    "        for (int i = 0; i < requiredSymbols; i++)\n",
    "        {\n",
    "            string symbol = symbols[i].ToString();\n",
    "            for (int j = 0; j < matchCount; j++)\n",
    "            {\n",
    "                symbolList.Add(symbol);\n",
    "            }\n",
    "        }\n",
    "\n",
    "        // Перемешиваем список символов\n",
    "        symbolList = symbolList.OrderBy(x => random.Next()).ToList();\n",
    "\n",
    "        // Заполняем карту\n",
    "        string[,] map = new string[height, width];\n",
    "        int index = 0;\n",
    "        for (int i = 0; i < height; i++)\n",
    "        {\n",
    "            for (int j = 0; j < width; j++)\n",
    "            {\n",
    "                map[i, j] = symbolList[index];\n",
    "                index++;\n",
    "            }\n",
    "        }\n",
    "\n",
    "        return map;\n",
    "    }\n",
    "\n",
    "    public void PrintMap(string[,] map)\n",
    "    {\n",
    "        for (int i = 0; i < map.GetLength(0); i++)\n",
    "        {\n",
    "            for (int j = 0; j < map.GetLength(1); j++)\n",
    "            {\n",
    "                Console.Write(map[i, j] + \" \");\n",
    "            }\n",
    "            Console.WriteLine();\n",
    "        }\n",
    "    }\n",
    "}\n"
   ]
  },
  {
   "cell_type": "code",
   "execution_count": 10,
   "metadata": {
    "polyglot_notebook": {
     "kernelName": "csharp"
    },
    "vscode": {
     "languageId": "polyglot-notebook"
    }
   },
   "outputs": [
    {
     "name": "stdout",
     "output_type": "stream",
     "text": [
      "D I H H F D B F F \n",
      "C B E F G A E E C \n",
      "C C G G B F B G C \n",
      "I I A C I D H G D \n",
      "H D B C B D I B G \n",
      "C I H I E H A I G \n",
      "H F A G A A E E G \n",
      "B A F F E A E F E \n",
      "D A H D B D C I H \n",
      "\n",
      "G A A D \n",
      "H H C B \n",
      "C F D E \n",
      "E F B G \n",
      "\n",
      "J A H C L K \n",
      "D K F F B A \n",
      "H D B D I F \n",
      "E C K I C L \n",
      "J A G I L E \n",
      "G B H G J E \n",
      "\n",
      "C C B C \n",
      "D A D D \n",
      "A B B B \n",
      "A D C A \n"
     ]
    }
   ],
   "source": [
    "        // Пример 0: стандартное поле 9x9 с парами символов\n",
    "        var generator0 = new FindPairsMapGenerator();\n",
    "        var map0 = generator0.Generate();\n",
    "        generator0.PrintMap(map0);\n",
    "        Console.WriteLine();\n",
    "        \n",
    "        // Пример 1: стандартное поле 4x4 с парами символов\n",
    "        var generator1 = new FindPairsMapGenerator(4, 4, \"ABCDEFGH\", 2);\n",
    "        var map1 = generator1.Generate();\n",
    "        generator1.PrintMap(map1);\n",
    "        Console.WriteLine();\n",
    "\n",
    "        // Пример 2: поле 6x6 с тройками символов\n",
    "        var generator2 = new FindPairsMapGenerator(6, 6, \"ABCDEFGHIJKL\", 3);\n",
    "        var map2 = generator2.Generate();\n",
    "        generator2.PrintMap(map2);\n",
    "        Console.WriteLine();\n",
    "\n",
    "\n",
    "        // Пример 3: поле 4x4 с четверками символов\n",
    "        var generator3 = new FindPairsMapGenerator(4, 4, \"ABCD\", 4);\n",
    "        var map3 = generator3.Generate();\n",
    "        generator3.PrintMap(map3);"
   ]
  }
 ],
 "metadata": {
  "kernelspec": {
   "display_name": ".NET (C#)",
   "language": "C#",
   "name": ".net-csharp"
  },
  "language_info": {
   "name": "python"
  },
  "polyglot_notebook": {
   "kernelInfo": {
    "defaultKernelName": "csharp",
    "items": [
     {
      "aliases": [],
      "name": "csharp"
     }
    ]
   }
  }
 },
 "nbformat": 4,
 "nbformat_minor": 2
}
