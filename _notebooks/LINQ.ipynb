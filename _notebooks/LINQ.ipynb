{
 "cells": [
  {
   "cell_type": "markdown",
   "metadata": {},
   "source": [
    "# LINQ"
   ]
  },
  {
   "cell_type": "code",
   "execution_count": 2,
   "metadata": {
    "dotnet_interactive": {
     "language": "csharp"
    },
    "polyglot_notebook": {
     "kernelName": "csharp"
    }
   },
   "outputs": [
    {
     "name": "stdout",
     "output_type": "stream",
     "text": [
      "0 1 2 3 4 5 6 7 8 9\n",
      "6 7\n"
     ]
    }
   ],
   "source": [
    "var numbers1 = new int[] {0, 1, 2, 3, 4, 5};\n",
    "int[] numbers2 = [0, 1, 2, 3, 4];\n",
    "var numbers = Enumerable.Range(0, 10).ToArray();\n",
    "Console.WriteLine(string.Join(\" \", numbers));\n",
    "\n",
    "var q_numbers = \n",
    "    from n in numbers\n",
    "    where n > 5 && n < 8\n",
    "    select n;\n",
    "\n",
    "Console.WriteLine(string.Join(\" \", q_numbers));"
   ]
  },
  {
   "cell_type": "code",
   "execution_count": 8,
   "metadata": {
    "polyglot_notebook": {
     "kernelName": "csharp"
    }
   },
   "outputs": [
    {
     "name": "stdout",
     "output_type": "stream",
     "text": [
      "Миша Маша марина Максим Игорь\n",
      "-=Максим-= -=марина-= -=Маша-= -=Миша-=\n"
     ]
    }
   ],
   "source": [
    "var names = \"Миша, Маша, марина, Максим, Игорь\".Split(\", \");\n",
    "Console.WriteLine(string.Join(\" \", names));\n",
    "\n",
    "var q_names =\n",
    "    from name in names\n",
    "    where name.ToUpper().StartsWith(\"М\")\n",
    "    orderby name\n",
    "    select $\"-={name}-=\";\n",
    "\n",
    "Console.WriteLine(string.Join(\" \", q_names));"
   ]
  },
  {
   "cell_type": "code",
   "execution_count": 13,
   "metadata": {
    "dotnet_interactive": {
     "language": "csharp"
    },
    "polyglot_notebook": {
     "kernelName": "csharp"
    }
   },
   "outputs": [
    {
     "name": "stdout",
     "output_type": "stream",
     "text": [
      "\r\n"
     ]
    }
   ],
   "source": [
    "var names_2 = names.Where(n => n.ToUpper().StartsWith(\"M\")).OrderBy(n => n).ToArray();\n",
    "Console.WriteLine(String.Join(\" \", names_2))"
   ]
  },
  {
   "cell_type": "code",
   "execution_count": 10,
   "metadata": {
    "polyglot_notebook": {
     "kernelName": "csharp"
    }
   },
   "outputs": [
    {
     "name": "stdout",
     "output_type": "stream",
     "text": [
      "Миша - False\r\n",
      "Маша - False\r\n",
      "марина - False\r\n",
      "Максим - False\r\n",
      "Игорь - False\r\n"
     ]
    }
   ],
   "source": [
    "var names_3 = names.Select(n => $\"{n} - {n.Contains(\"a\")}\").ToArray();\n",
    "\n",
    "Console.WriteLine(string.Join(Environment.NewLine, names_3))"
   ]
  }
 ],
 "metadata": {
  "kernelspec": {
   "display_name": ".NET (C#)",
   "language": "C#",
   "name": ".net-csharp"
  },
  "polyglot_notebook": {
   "kernelInfo": {
    "defaultKernelName": "csharp",
    "items": [
     {
      "aliases": [],
      "languageName": "csharp",
      "name": "csharp"
     }
    ]
   }
  }
 },
 "nbformat": 4,
 "nbformat_minor": 2
}
