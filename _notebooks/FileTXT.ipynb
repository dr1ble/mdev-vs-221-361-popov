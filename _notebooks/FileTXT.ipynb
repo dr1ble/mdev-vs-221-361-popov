{
 "cells": [
  {
   "cell_type": "markdown",
   "metadata": {},
   "source": [
    "# Работа с текстовыми файлами"
   ]
  },
  {
   "cell_type": "code",
   "execution_count": 1,
   "metadata": {
    "dotnet_interactive": {
     "language": "csharp"
    },
    "polyglot_notebook": {
     "kernelName": "csharp"
    },
    "vscode": {
     "languageId": "polyglot-notebook"
    }
   },
   "outputs": [],
   "source": [
    "using System.IO;\n"
   ]
  },
  {
   "cell_type": "code",
   "execution_count": 3,
   "metadata": {
    "vscode": {
     "languageId": "polyglot-notebook"
    }
   },
   "outputs": [],
   "source": [
    "const string TEMP_DIR = \"temp\";\n",
    "\n",
    "if (! Directory.Exists(TEMP_DIR))\n",
    "    Directory.CreateDirectory(TEMP_DIR);"
   ]
  },
  {
   "cell_type": "code",
   "execution_count": 4,
   "metadata": {
    "vscode": {
     "languageId": "polyglot-notebook"
    }
   },
   "outputs": [
    {
     "data": {
      "text/plain": [
       "temp\\aaa\\bbb\\zz\\temp_TXT.txt"
      ]
     },
     "metadata": {},
     "output_type": "display_data"
    }
   ],
   "source": [
    "// TEMP_DIR + \"\\\\\" + \"temp_TXT.txt\"\n",
    "Path.Combine(TEMP_DIR, \"aaa\", \"bbb\\\\zz\\\\\", \"temp_TXT.txt\")"
   ]
  },
  {
   "cell_type": "code",
   "execution_count": 5,
   "metadata": {
    "vscode": {
     "languageId": "polyglot-notebook"
    }
   },
   "outputs": [],
   "source": [
    "var filename = Path.Combine(TEMP_DIR, \"temp_TXT.txt\");\n",
    "var f = new StreamWriter(filename);\n",
    "try\n",
    "{\n",
    "    f.WriteLine(\"Hello\");\n",
    "    f.WriteLine(\"123\");\n",
    "}\n",
    "finally\n",
    "{\n",
    "    f.Close();\n",
    "}"
   ]
  },
  {
   "cell_type": "code",
   "execution_count": null,
   "metadata": {
    "vscode": {
     "languageId": "polyglot-notebook"
    }
   },
   "outputs": [],
   "source": [
    "// ИЛИ \n",
    "\n",
    "var filename = Path.Combine(TEMP_DIR, \"temp_TXT.txt\");\n",
    "using (var f = new StreamWriter(filename))\n",
    "{\n",
    "    f.WriteLine(\"Hello\");\n",
    "    f.WriteLine(\"123\");\n",
    "}"
   ]
  },
  {
   "cell_type": "code",
   "execution_count": null,
   "metadata": {
    "vscode": {
     "languageId": "polyglot-notebook"
    }
   },
   "outputs": [],
   "source": [
    "// ИЛИ \n",
    "\n",
    "var filename = Path.Combine(TEMP_DIR, \"temp_TXT.txt\");\n",
    "{\n",
    "    using var f = new StreamWriter(filename);\n",
    "    f.WriteLine(\"Hello\");\n",
    "    f.WriteLine(\"123\");\n",
    "}"
   ]
  },
  {
   "cell_type": "code",
   "execution_count": null,
   "metadata": {
    "vscode": {
     "languageId": "polyglot-notebook"
    }
   },
   "outputs": [],
   "source": [
    "// Добавить в конец файла\n",
    "var filename = Path.Combine(TEMP_DIR, \"temp_TXT.txt\");\n",
    "{\n",
    "    using var f = new StreamWriter(filename, append:true);\n",
    "    f.WriteLine(\"zzzzzzz\");\n",
    "}"
   ]
  },
  {
   "cell_type": "markdown",
   "metadata": {},
   "source": [
    "# Чтение из файла"
   ]
  },
  {
   "cell_type": "code",
   "execution_count": 6,
   "metadata": {
    "vscode": {
     "languageId": "polyglot-notebook"
    }
   },
   "outputs": [
    {
     "name": "stdout",
     "output_type": "stream",
     "text": [
      "Hello\r\n",
      "123\r\n",
      "\r\n"
     ]
    }
   ],
   "source": [
    "// чтение из файла целиком\n",
    "\n",
    "var filename = Path.Combine(TEMP_DIR, \"temp_TXT.txt\");\n",
    "\n",
    "using (var f = new StreamReader(filename))\n",
    "{\n",
    "    var txt = f.ReadToEnd();\n",
    "    Console.WriteLine(txt);\n",
    "}"
   ]
  },
  {
   "cell_type": "code",
   "execution_count": null,
   "metadata": {
    "vscode": {
     "languageId": "polyglot-notebook"
    }
   },
   "outputs": [],
   "source": [
    "// чтение из файла построчно\n",
    "\n",
    "var filename = Path.Combine(TEMP_DIR, \"temp_TXT.txt\");\n",
    "\n",
    "using (var f = new StreamReader(filename))\n",
    "{\n",
    "    string line;\n",
    "    while (f.EndOfStream == false)\n",
    "    {\n",
    "        line = f.ReadLine();\n",
    "        Console.WriteLine(line);\n",
    "    }\n",
    "}"
   ]
  },
  {
   "cell_type": "code",
   "execution_count": 7,
   "metadata": {
    "vscode": {
     "languageId": "polyglot-notebook"
    }
   },
   "outputs": [
    {
     "name": "stdout",
     "output_type": "stream",
     "text": [
      "Hello\n",
      "123\n"
     ]
    }
   ],
   "source": [
    "// ИЛИ\n",
    "\n",
    "var filename = Path.Combine(TEMP_DIR, \"temp_TXT.txt\");\n",
    "\n",
    "using (var f = new StreamReader(filename))\n",
    "{\n",
    "    string line;\n",
    "    while ((line = f.ReadLine()) != null)\n",
    "    {\n",
    "        Console.WriteLine(line);\n",
    "    }\n",
    "}"
   ]
  },
  {
   "cell_type": "code",
   "execution_count": 13,
   "metadata": {
    "vscode": {
     "languageId": "polyglot-notebook"
    }
   },
   "outputs": [
    {
     "name": "stdout",
     "output_type": "stream",
     "text": [
      "123123\n",
      "123qdsda!1\u0007sd4/11/2025 1:08:42 PM\r\n"
     ]
    },
    {
     "data": {
      "text/html": [
       "<div class=\"dni-plaintext\"><pre>[ 123123, 123qdsda!1\u0007sd4/11/2025 1:08:42 PM ]</pre></div><style>\r\n",
       ".dni-code-hint {\r\n",
       "    font-style: italic;\r\n",
       "    overflow: hidden;\r\n",
       "    white-space: nowrap;\r\n",
       "}\r\n",
       ".dni-treeview {\r\n",
       "    white-space: nowrap;\r\n",
       "}\r\n",
       ".dni-treeview td {\r\n",
       "    vertical-align: top;\r\n",
       "    text-align: start;\r\n",
       "}\r\n",
       "details.dni-treeview {\r\n",
       "    padding-left: 1em;\r\n",
       "}\r\n",
       "table td {\r\n",
       "    text-align: start;\r\n",
       "}\r\n",
       "table tr { \r\n",
       "    vertical-align: top; \r\n",
       "    margin: 0em 0px;\r\n",
       "}\r\n",
       "table tr td pre \r\n",
       "{ \r\n",
       "    vertical-align: top !important; \r\n",
       "    margin: 0em 0px !important;\r\n",
       "} \r\n",
       "table th {\r\n",
       "    text-align: start;\r\n",
       "}\r\n",
       "</style>"
      ]
     },
     "metadata": {},
     "output_type": "display_data"
    }
   ],
   "source": [
    "var filename = Path.Combine(TEMP_DIR, \"temp_TXT_2.txt\");\n",
    "\n",
    "// Перезапись файла\n",
    "File.WriteAllText(filename, \"123123\\n123qdsda!1\\asd\");\n",
    "\n",
    "// Дозаписать в файл\n",
    "File.AppendAllText(filename, DateTime.Now.ToString());\n",
    "\n",
    "// Чтение из файла в строчку\n",
    "var txt = File.ReadAllText(filename);\n",
    "Console.WriteLine(txt);\n",
    "\n",
    "// Чтение из файла в Массив\n",
    "var lines = File.ReadAllLines(filename);\n",
    "lines\n"
   ]
  },
  {
   "cell_type": "code",
   "execution_count": 15,
   "metadata": {
    "vscode": {
     "languageId": "polyglot-notebook"
    }
   },
   "outputs": [],
   "source": [
    "var filename = Path.Combine(TEMP_DIR, \"temp_TXT_ASCII.txt\");\n",
    "File.WriteAllText(filename, \"Привет! Как дела?\", Encoding.ASCII)\n",
    "\n",
    "//TODO проверить \n",
    "\n"
   ]
  }
 ],
 "metadata": {
  "kernelspec": {
   "display_name": ".NET (C#)",
   "language": "C#",
   "name": ".net-csharp"
  },
  "language_info": {
   "name": "python"
  },
  "polyglot_notebook": {
   "kernelInfo": {
    "defaultKernelName": "csharp",
    "items": [
     {
      "aliases": [],
      "name": "csharp"
     }
    ]
   }
  }
 },
 "nbformat": 4,
 "nbformat_minor": 2
}
