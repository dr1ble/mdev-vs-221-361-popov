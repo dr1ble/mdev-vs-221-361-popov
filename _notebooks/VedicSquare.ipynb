{
 "cells": [
  {
   "cell_type": "code",
   "execution_count": 1,
   "metadata": {
    "polyglot_notebook": {
     "kernelName": "csharp"
    },
    "vscode": {
     "languageId": "polyglot-notebook"
    }
   },
   "outputs": [],
   "source": [
    "using System;\n",
    "\n",
    "public class VedicSquare\n",
    "{\n",
    "    private int size;\n",
    "    private int[,] pythagorasTable;\n",
    "    private int[,] vedicSquare;\n",
    "\n",
    "    public VedicSquare(int size = 9)\n",
    "    {\n",
    "        this.size = size;\n",
    "        pythagorasTable = new int[size, size];\n",
    "        vedicSquare = new int[size, size];\n",
    "        GeneratePythagorasTable();\n",
    "        GenerateVedicSquare();\n",
    "    }\n",
    "\n",
    "    private void GeneratePythagorasTable()\n",
    "    {\n",
    "        for (int i = 0; i < size; i++)\n",
    "        for (int j = 0; j < size; j++)\n",
    "            pythagorasTable[i, j] = (i + 1) * (j + 1);\n",
    "    }\n",
    "\n",
    "    private int DigitalRoot(int number)\n",
    "    {\n",
    "        return number == 0 ? 0 : (number - 1) % 9 + 1;\n",
    "    }\n",
    "\n",
    "    private void GenerateVedicSquare()\n",
    "    {\n",
    "        for (int i = 0; i < size; i++)\n",
    "        for (int j = 0; j < size; j++)\n",
    "            vedicSquare[i, j] = DigitalRoot(pythagorasTable[i, j]);\n",
    "    }\n",
    "\n",
    "    public void PrintTable(int[,] table, bool asSymbols = false, int highlight = -1)\n",
    "    {\n",
    "        for (int i = 0; i < size; i++)\n",
    "        {\n",
    "            for (int j = 0; j < size; j++)\n",
    "            {\n",
    "                int value = table[i, j];\n",
    "                if (asSymbols)\n",
    "                    Console.Write(value == highlight ? '■' : '□');\n",
    "                else\n",
    "                    Console.Write(value + \"\\t\");\n",
    "            }\n",
    "            Console.WriteLine();\n",
    "        }\n",
    "    }\n",
    "\n",
    "    public void ShowAll(int highlight = -1)\n",
    "    {\n",
    "        Console.WriteLine(\"Таблица пифагора:\");\n",
    "        PrintTable(pythagorasTable);\n",
    "\n",
    "        Console.WriteLine(\"\\nВедический квадрат:\");\n",
    "        PrintTable(vedicSquare);\n",
    "\n",
    "        if (highlight >= 1 && highlight <= 9)\n",
    "        {\n",
    "            Console.WriteLine($\"\\nУзор для числа {highlight}:\");\n",
    "            PrintTable(vedicSquare, asSymbols: true, highlight: highlight);\n",
    "        }\n",
    "    }\n",
    "}"
   ]
  },
  {
   "cell_type": "code",
   "execution_count": 2,
   "metadata": {
    "polyglot_notebook": {
     "kernelName": "csharp"
    },
    "vscode": {
     "languageId": "polyglot-notebook"
    }
   },
   "outputs": [
    {
     "name": "stdout",
     "output_type": "stream",
     "text": [
      "Таблица пифагора:\n",
      "1\t2\t3\t4\t5\t6\t7\t8\t9\t\n",
      "2\t4\t6\t8\t10\t12\t14\t16\t18\t\n",
      "3\t6\t9\t12\t15\t18\t21\t24\t27\t\n",
      "4\t8\t12\t16\t20\t24\t28\t32\t36\t\n",
      "5\t10\t15\t20\t25\t30\t35\t40\t45\t\n",
      "6\t12\t18\t24\t30\t36\t42\t48\t54\t\n",
      "7\t14\t21\t28\t35\t42\t49\t56\t63\t\n",
      "8\t16\t24\t32\t40\t48\t56\t64\t72\t\n",
      "9\t18\t27\t36\t45\t54\t63\t72\t81\t\n",
      "\n",
      "Ведический квадрат:\n",
      "1\t2\t3\t4\t5\t6\t7\t8\t9\t\n",
      "2\t4\t6\t8\t1\t3\t5\t7\t9\t\n",
      "3\t6\t9\t3\t6\t9\t3\t6\t9\t\n",
      "4\t8\t3\t7\t2\t6\t1\t5\t9\t\n",
      "5\t1\t6\t2\t7\t3\t8\t4\t9\t\n",
      "6\t3\t9\t6\t3\t9\t6\t3\t9\t\n",
      "7\t5\t3\t1\t8\t6\t4\t2\t9\t\n",
      "8\t7\t6\t5\t4\t3\t2\t1\t9\t\n",
      "9\t9\t9\t9\t9\t9\t9\t9\t9\t\n",
      "\n",
      "Узор для числа 9:\n",
      "□□□□□□□□■\n",
      "□□□□□□□□■\n",
      "□□■□□■□□■\n",
      "□□□□□□□□■\n",
      "□□□□□□□□■\n",
      "□□■□□■□□■\n",
      "□□□□□□□□■\n",
      "□□□□□□□□■\n",
      "■■■■■■■■■\n"
     ]
    }
   ],
   "source": [
    "var vs = new VedicSquare();\n",
    "vs.ShowAll(highlight: 9); "
   ]
  }
 ],
 "metadata": {
  "kernelspec": {
   "display_name": ".NET (C#)",
   "language": "C#",
   "name": ".net-csharp"
  },
  "language_info": {
   "name": "python"
  },
  "polyglot_notebook": {
   "kernelInfo": {
    "defaultKernelName": "csharp",
    "items": [
     {
      "aliases": [],
      "name": "csharp"
     }
    ]
   }
  }
 },
 "nbformat": 4,
 "nbformat_minor": 2
}
