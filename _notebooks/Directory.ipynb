{
 "cells": [
  {
   "cell_type": "markdown",
   "metadata": {},
   "source": [
    "# Работа с каталогами"
   ]
  },
  {
   "cell_type": "code",
   "execution_count": 3,
   "metadata": {
    "dotnet_interactive": {
     "language": "csharp"
    },
    "polyglot_notebook": {
     "kernelName": "csharp"
    }
   },
   "outputs": [],
   "source": [
    "using System.IO;"
   ]
  },
  {
   "cell_type": "code",
   "execution_count": 4,
   "metadata": {
    "dotnet_interactive": {
     "language": "csharp"
    },
    "polyglot_notebook": {
     "kernelName": "csharp"
    }
   },
   "outputs": [],
   "source": [
    "string path1 = \"C:\\\\windows\\\\Help\";\n",
    "string path2 = @\"C:\\windows\\Help\";"
   ]
  },
  {
   "cell_type": "code",
   "execution_count": 5,
   "metadata": {},
   "outputs": [
    {
     "data": {
      "text/html": [
       "<div class=\"dni-plaintext\"><pre>[  ]</pre></div><style>\r\n",
       ".dni-code-hint {\r\n",
       "    font-style: italic;\r\n",
       "    overflow: hidden;\r\n",
       "    white-space: nowrap;\r\n",
       "}\r\n",
       ".dni-treeview {\r\n",
       "    white-space: nowrap;\r\n",
       "}\r\n",
       ".dni-treeview td {\r\n",
       "    vertical-align: top;\r\n",
       "    text-align: start;\r\n",
       "}\r\n",
       "details.dni-treeview {\r\n",
       "    padding-left: 1em;\r\n",
       "}\r\n",
       "table td {\r\n",
       "    text-align: start;\r\n",
       "}\r\n",
       "table tr { \r\n",
       "    vertical-align: top; \r\n",
       "    margin: 0em 0px;\r\n",
       "}\r\n",
       "table tr td pre \r\n",
       "{ \r\n",
       "    vertical-align: top !important; \r\n",
       "    margin: 0em 0px !important;\r\n",
       "} \r\n",
       "table th {\r\n",
       "    text-align: start;\r\n",
       "}\r\n",
       "</style>"
      ]
     },
     "metadata": {},
     "output_type": "display_data"
    }
   ],
   "source": [
    "Directory.GetFiles(path1)"
   ]
  },
  {
   "cell_type": "code",
   "execution_count": 8,
   "metadata": {},
   "outputs": [
    {
     "data": {
      "text/html": [
       "<div class=\"dni-plaintext\"><pre>[ C:\\windows\\Help\\en-US\\credits.rtf, C:\\windows\\Help\\mui\\0409\\cliconf.chm, C:\\windows\\Help\\mui\\0409\\mmc.CHM, C:\\windows\\Help\\mui\\0409\\msdasc.chm, C:\\windows\\Help\\mui\\0409\\msorcl32.chm, C:\\windows\\Help\\mui\\0409\\odbcinst.chm, C:\\windows\\Help\\mui\\0409\\odbcjet.chm, C:\\windows\\Help\\mui\\0409\\sqlsodbc.chm, C:\\windows\\Help\\mui\\0409\\sqlsoldb.chm, C:\\windows\\Help\\mui\\0419\\cliconf.chm, C:\\windows\\Help\\mui\\0419\\mmc.CHM, C:\\windows\\Help\\mui\\0419\\msdasc.chm, C:\\windows\\Help\\mui\\0419\\msorcl32.chm, C:\\windows\\Help\\mui\\0419\\odbcinst.chm, C:\\windows\\Help\\mui\\0419\\odbcjet.chm, C:\\windows\\Help\\mui\\0419\\sqlsodbc.chm, C:\\windows\\Help\\mui\\0419\\sqlsoldb.chm ]</pre></div><style>\r\n",
       ".dni-code-hint {\r\n",
       "    font-style: italic;\r\n",
       "    overflow: hidden;\r\n",
       "    white-space: nowrap;\r\n",
       "}\r\n",
       ".dni-treeview {\r\n",
       "    white-space: nowrap;\r\n",
       "}\r\n",
       ".dni-treeview td {\r\n",
       "    vertical-align: top;\r\n",
       "    text-align: start;\r\n",
       "}\r\n",
       "details.dni-treeview {\r\n",
       "    padding-left: 1em;\r\n",
       "}\r\n",
       "table td {\r\n",
       "    text-align: start;\r\n",
       "}\r\n",
       "table tr { \r\n",
       "    vertical-align: top; \r\n",
       "    margin: 0em 0px;\r\n",
       "}\r\n",
       "table tr td pre \r\n",
       "{ \r\n",
       "    vertical-align: top !important; \r\n",
       "    margin: 0em 0px !important;\r\n",
       "} \r\n",
       "table th {\r\n",
       "    text-align: start;\r\n",
       "}\r\n",
       "</style>"
      ]
     },
     "metadata": {},
     "output_type": "display_data"
    }
   ],
   "source": [
    "Directory.GetFiles(path1, \"\", searchOption: SearchOption.AllDirectories)"
   ]
  },
  {
   "cell_type": "code",
   "execution_count": 7,
   "metadata": {},
   "outputs": [
    {
     "name": "stdout",
     "output_type": "stream",
     "text": [
      "C:\\windows\\Help\\en-US\\credits.rtf\n",
      "C:\\windows\\Help\\mui\\0409\\cliconf.chm\n",
      "C:\\windows\\Help\\mui\\0409\\mmc.CHM\n",
      "C:\\windows\\Help\\mui\\0409\\msdasc.chm\n",
      "C:\\windows\\Help\\mui\\0409\\msorcl32.chm\n",
      "C:\\windows\\Help\\mui\\0409\\odbcinst.chm\n",
      "C:\\windows\\Help\\mui\\0409\\odbcjet.chm\n",
      "C:\\windows\\Help\\mui\\0409\\sqlsodbc.chm\n",
      "C:\\windows\\Help\\mui\\0409\\sqlsoldb.chm\n",
      "C:\\windows\\Help\\mui\\0419\\cliconf.chm\n",
      "C:\\windows\\Help\\mui\\0419\\mmc.CHM\n",
      "C:\\windows\\Help\\mui\\0419\\msdasc.chm\n",
      "C:\\windows\\Help\\mui\\0419\\msorcl32.chm\n",
      "C:\\windows\\Help\\mui\\0419\\odbcinst.chm\n",
      "C:\\windows\\Help\\mui\\0419\\odbcjet.chm\n",
      "C:\\windows\\Help\\mui\\0419\\sqlsodbc.chm\n",
      "C:\\windows\\Help\\mui\\0419\\sqlsoldb.chm\n"
     ]
    }
   ],
   "source": [
    "var r = Directory.GetFiles(path1, \"\", searchOption: SearchOption.AllDirectories);\n",
    "foreach (var i in r)\n",
    "    Console.WriteLine(i);"
   ]
  },
  {
   "cell_type": "code",
   "execution_count": 9,
   "metadata": {},
   "outputs": [
    {
     "name": "stdout",
     "output_type": "stream",
     "text": [
      "C:\\windows\\Help\\Corporate\n",
      "C:\\windows\\Help\\en-US\n",
      "C:\\windows\\Help\\Help\n",
      "C:\\windows\\Help\\mui\n",
      "C:\\windows\\Help\\OEM\n",
      "C:\\windows\\Help\\Windows\n",
      "C:\\windows\\Help\\mui\\0409\n",
      "C:\\windows\\Help\\mui\\0419\n",
      "C:\\windows\\Help\\OEM\\ContentStore\n",
      "C:\\windows\\Help\\OEM\\IndexStore\n",
      "C:\\windows\\Help\\Windows\\ContentStore\n",
      "C:\\windows\\Help\\Windows\\IndexStore\n",
      "C:\\windows\\Help\\Windows\\ContentStore\\en-US\n",
      "C:\\windows\\Help\\Windows\\IndexStore\\en-US\n"
     ]
    }
   ],
   "source": [
    "var r = Directory.GetDirectories(path1, \"\", searchOption: SearchOption.AllDirectories);\n",
    "foreach (var i in r)\n",
    "    Console.WriteLine(i);"
   ]
  }
 ],
 "metadata": {
  "kernelspec": {
   "display_name": ".NET (C#)",
   "language": "C#",
   "name": ".net-csharp"
  },
  "polyglot_notebook": {
   "kernelInfo": {
    "defaultKernelName": "csharp",
    "items": [
     {
      "aliases": [],
      "languageName": "csharp",
      "name": "csharp"
     }
    ]
   }
  }
 },
 "nbformat": 4,
 "nbformat_minor": 2
}
